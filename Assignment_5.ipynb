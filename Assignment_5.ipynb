{
 "cells": [
  {
   "cell_type": "markdown",
   "id": "56161b07",
   "metadata": {},
   "source": [
    "Ans1"
   ]
  },
  {
   "cell_type": "code",
   "execution_count": 1,
   "id": "8058dc74",
   "metadata": {},
   "outputs": [],
   "source": [
    "empty_dict= {}"
   ]
  },
  {
   "cell_type": "code",
   "execution_count": 2,
   "id": "138e78c2",
   "metadata": {},
   "outputs": [
    {
     "name": "stdout",
     "output_type": "stream",
     "text": [
      "{}\n"
     ]
    }
   ],
   "source": [
    "print(empty_dict)"
   ]
  },
  {
   "cell_type": "markdown",
   "id": "4e255164",
   "metadata": {},
   "source": [
    "or"
   ]
  },
  {
   "cell_type": "code",
   "execution_count": 3,
   "id": "b55ca8f9",
   "metadata": {},
   "outputs": [
    {
     "data": {
      "text/plain": [
       "{}"
      ]
     },
     "execution_count": 3,
     "metadata": {},
     "output_type": "execute_result"
    }
   ],
   "source": [
    "dict()"
   ]
  },
  {
   "cell_type": "markdown",
   "id": "d18602f6",
   "metadata": {},
   "source": [
    "Ans2 - d={\"foo\": 42}"
   ]
  },
  {
   "cell_type": "markdown",
   "id": "dfd7d301",
   "metadata": {},
   "source": [
    "Ans3 - A list refers to a collection of various index value pairs whereas  dictionary refers to a hashed structure of various pairs of keys and values"
   ]
  },
  {
   "cell_type": "markdown",
   "id": "8d65e88b",
   "metadata": {},
   "source": [
    "Ans4- we get key error."
   ]
  },
  {
   "cell_type": "markdown",
   "id": "8733d96f",
   "metadata": {},
   "source": [
    "Ans5- There is no difference as the operator checks whether a value exists as a key in the dictionary."
   ]
  },
  {
   "cell_type": "markdown",
   "id": "7c7324dc",
   "metadata": {},
   "source": [
    "Ans6 - 'cat' spam checks that there is 'cat' key is present in the dictionary and key.values checks that there is value 'cat' is found in any of the key having value 'cat'."
   ]
  },
  {
   "cell_type": "markdown",
   "id": "906aa8b8",
   "metadata": {},
   "source": [
    "Ans7 - spam.setdefault('color','black')"
   ]
  },
  {
   "cell_type": "markdown",
   "id": "f1abb9b0",
   "metadata": {},
   "source": [
    "Ans8-pprint.pprint()"
   ]
  },
  {
   "cell_type": "code",
   "execution_count": null,
   "id": "2e8af624",
   "metadata": {},
   "outputs": [],
   "source": []
  }
 ],
 "metadata": {
  "kernelspec": {
   "display_name": "Python 3 (ipykernel)",
   "language": "python",
   "name": "python3"
  },
  "language_info": {
   "codemirror_mode": {
    "name": "ipython",
    "version": 3
   },
   "file_extension": ".py",
   "mimetype": "text/x-python",
   "name": "python",
   "nbconvert_exporter": "python",
   "pygments_lexer": "ipython3",
   "version": "3.9.12"
  }
 },
 "nbformat": 4,
 "nbformat_minor": 5
}
